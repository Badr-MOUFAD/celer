{
  "cells": [
    {
      "cell_type": "code",
      "execution_count": null,
      "metadata": {
        "collapsed": false
      },
      "outputs": [],
      "source": [
        "%matplotlib inline"
      ]
    },
    {
      "cell_type": "markdown",
      "metadata": {},
      "source": [
        "\n# Run GroupLasso and GroupLasso CV for structured sparse recovery\n\nThe example runs the GroupLasso scikit-learn like estimators.\n"
      ]
    },
    {
      "cell_type": "code",
      "execution_count": null,
      "metadata": {
        "collapsed": false
      },
      "outputs": [],
      "source": [
        "import numpy as np\nimport matplotlib.pyplot as plt\n\nfrom sklearn.utils import check_random_state\n\nfrom celer import GroupLasso, GroupLassoCV\nfrom celer.plot_utils import configure_plt\n\nprint(__doc__)\nconfigure_plt()\n\n# Generating X and y data\n\nn_samples, n_features = 30, 50\nrng = check_random_state(0)\nX = rng.randn(n_samples, n_features)\n\n\n# Create true regression coefficients with 3 groups of 5 non-zero values\n\nw_true = np.zeros(n_features)\nw_true[:5] = 1\nw_true[20:25] = -2\nw_true[40:45] = 1\ny = X @ w_true + rng.randn(n_samples)\n\n\n# Fit an adapted GroupLasso model\n\ngroups = 5  # groups are contiguous and of size 5\n# irregular groups are also supported,\nclf = GroupLasso(groups=groups, alpha=1.1)\nclf.fit(X, y)"
      ]
    },
    {
      "cell_type": "markdown",
      "metadata": {},
      "source": [
        "Display results\n\n"
      ]
    },
    {
      "cell_type": "code",
      "execution_count": null,
      "metadata": {
        "collapsed": false
      },
      "outputs": [],
      "source": [
        "fig = plt.figure(figsize=(10, 4))\nm, s, _ = plt.stem(w_true, label=r\"true regression coefficients\",\n                   use_line_collection=True)\nm, s, _ = plt.stem(clf.coef_, label=r\"estimated regression coefficients\",\n                   markerfmt='x', use_line_collection=True)\nplt.setp([m, s], color='#ff7f0e')\nplt.xlabel(\"feature index\")\nplt.legend()\nplt.show(block=False)"
      ]
    },
    {
      "cell_type": "markdown",
      "metadata": {},
      "source": [
        "Get optimal alpha for prediction by cross validation\n\n"
      ]
    },
    {
      "cell_type": "code",
      "execution_count": null,
      "metadata": {
        "collapsed": false
      },
      "outputs": [],
      "source": [
        "model = GroupLassoCV(groups=groups)\nmodel.fit(X, y)\n\nprint(\"Estimated regularization parameter alpha: %s\" % model.alpha_)\n\nfig = plt.figure(figsize=(11, 4.5))\nplt.semilogx(model.alphas_, model.mse_path_, ':')\nplt.semilogx(model.alphas_, model.mse_path_.mean(axis=-1), 'k',\n             label='Average across the folds', linewidth=2)\nplt.axvline(model.alpha_, linestyle='--', color='k',\n            label='alpha: CV estimate')\n\nplt.legend()\n\nplt.xlabel(r'$\\alpha$')\nplt.ylabel('Mean square error')\nplt.show(block=False)"
      ]
    },
    {
      "cell_type": "markdown",
      "metadata": {},
      "source": [
        "Show optimal regression vector for prediction, obtained by cross validation\n\n"
      ]
    },
    {
      "cell_type": "code",
      "execution_count": null,
      "metadata": {
        "collapsed": false
      },
      "outputs": [],
      "source": [
        "fig = plt.figure(figsize=(10, 4))\nm, s, _ = plt.stem(w_true, label=r\"true regression coefficients\",\n                   use_line_collection=True)\nm, s, _ = plt.stem(model.coef_, label=r\"CV-estimated regression coefficients\",\n                   markerfmt='x', use_line_collection=True)\nplt.setp([m, s], color='#ff7f0e')\nplt.xlabel(\"feature index\")\nplt.legend()\nplt.show(block=False)"
      ]
    }
  ],
  "metadata": {
    "kernelspec": {
      "display_name": "Python 3",
      "language": "python",
      "name": "python3"
    },
    "language_info": {
      "codemirror_mode": {
        "name": "ipython",
        "version": 3
      },
      "file_extension": ".py",
      "mimetype": "text/x-python",
      "name": "python",
      "nbconvert_exporter": "python",
      "pygments_lexer": "ipython3",
      "version": "3.8.1"
    }
  },
  "nbformat": 4,
  "nbformat_minor": 0
}