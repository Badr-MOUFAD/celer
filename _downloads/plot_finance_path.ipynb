{
  "nbformat": 4,
  "cells": [
    {
      "source": [
        "%matplotlib inline"
      ],
      "cell_type": "code",
      "metadata": {
        "collapsed": false
      },
      "execution_count": null,
      "outputs": []
    },
    {
      "cell_type": "markdown",
      "metadata": {},
      "source": [
        "\n=======================================================\nLasso path computation on Finance/log1p dataset\n=======================================================\n\nThe example runs the Celer algorithm on sparse data.\n\n"
      ]
    },
    {
      "source": [
        "import time\n\nimport numpy as np\nimport matplotlib.pyplot as plt\n\n\nfrom scipy import sparse\n\nfrom celer import celer_path\nfrom celer.examples_utils import download_preprocess_finance\nfrom celer.plot_utils import plot_path_hist\n\nprint(__doc__)\n\nprint(\"Warning: this example may take more than 10 minutes to run\")\nprint(\"Loading data...\")\ntry:\n    X = sparse.load_npz(\"./data/finance_data_preprocessed.npz\")\n    y = np.load(\"./data/finance_target_preprocessed.npy\")\nexcept FileNotFoundError:\n    print(\"Warning: downloading and preprocessing the Finance dataset.\")\n    print(\"This may take several minutes\")\n    download_preprocess_finance()\n    X = sparse.load_npz(\"./data/finance_data_preprocessed.npz\")\n    y = np.load(\"./data/finance_target_preprocessed.npy\")\n\nprint(\"Starting path computation...\")\nalpha_max = np.max(np.abs(X.T.dot(y)))\n\n# construct fine or coarse grid of regularization parameters\nfine = False\nn_alphas = 100 if fine else 10\nalphas = alpha_max * np.logspace(0, -2, n_alphas)\n\ngap_freq = 10\nprune = 1\nverbose = 0\nverbose_inner = 0\n\ntols = [1e-2, 1e-4, 1e-6]\nresults = np.zeros([1, len(tols)])\nfor tol_ix, tol in enumerate(tols):\n    t0 = time.time()\n    res = celer_path(X, y, alphas, max_iter=100, gap_freq=gap_freq,\n                     max_epochs_inner=50000, p0=100, verbose=verbose,\n                     verbose_inner=verbose_inner,\n                     tol=tol, prune=prune)\n    results[0, tol_ix] = time.time() - t0\n    betas, thetas, gaps = res\n\nlabels = [r\"\\sc{CELER}\"]\nfigsize = (7, 4)\nfig = plot_path_hist(results, labels, tols, figsize, ylim=None)\nplt.show()"
      ],
      "cell_type": "code",
      "metadata": {
        "collapsed": false
      },
      "execution_count": null,
      "outputs": []
    }
  ],
  "nbformat_minor": 0,
  "metadata": {
    "language_info": {
      "name": "python",
      "version": "3.5.4",
      "file_extension": ".py",
      "mimetype": "text/x-python",
      "pygments_lexer": "ipython3",
      "nbconvert_exporter": "python",
      "codemirror_mode": {
        "name": "ipython",
        "version": 3
      }
    },
    "kernelspec": {
      "name": "python3",
      "language": "python",
      "display_name": "Python 3"
    }
  }
}