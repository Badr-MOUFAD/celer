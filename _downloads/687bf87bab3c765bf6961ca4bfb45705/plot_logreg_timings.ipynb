{
  "cells": [
    {
      "cell_type": "code",
      "execution_count": null,
      "metadata": {
        "collapsed": false
      },
      "outputs": [],
      "source": [
        "%matplotlib inline"
      ]
    },
    {
      "cell_type": "markdown",
      "metadata": {},
      "source": [
        "\n# Use LogisticRegression class with Celer and Prox-Newton solvers\n"
      ]
    },
    {
      "cell_type": "code",
      "execution_count": null,
      "metadata": {
        "collapsed": false
      },
      "outputs": [],
      "source": [
        "import numpy as np\nfrom numpy.linalg import norm\nfrom sklearn import linear_model\n\nfrom celer import LogisticRegression\nfrom celer.datasets import fetch_ml_uci\n\ndataset = \"gisette_train\"\nX, y = fetch_ml_uci(dataset)\n\nC_min = 2 / norm(X.T @ y, ord=np.inf)\nC = 5 * C_min\nclf = LogisticRegression(C=C, verbose=1, solver=\"celer-pn\", tol=1e0).fit(X, y)\nw_celer = clf.coef_.ravel()\n\nclf = linear_model.LogisticRegression(\n    C=C, solver=\"liblinear\", penalty='l1', fit_intercept=False).fit(X, y)\nw_lib = clf.coef_.ravel()"
      ]
    }
  ],
  "metadata": {
    "kernelspec": {
      "display_name": "Python 3",
      "language": "python",
      "name": "python3"
    },
    "language_info": {
      "codemirror_mode": {
        "name": "ipython",
        "version": 3
      },
      "file_extension": ".py",
      "mimetype": "text/x-python",
      "name": "python",
      "nbconvert_exporter": "python",
      "pygments_lexer": "ipython3",
      "version": "3.8.1"
    }
  },
  "nbformat": 4,
  "nbformat_minor": 0
}