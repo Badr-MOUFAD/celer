{
  "cells": [
    {
      "cell_type": "code",
      "execution_count": null,
      "metadata": {
        "collapsed": false
      },
      "outputs": [],
      "source": [
        "%matplotlib inline"
      ]
    },
    {
      "cell_type": "markdown",
      "metadata": {},
      "source": [
        "\n# Lasso path computation on Leukemia dataset\n\n\nThe example runs the Celer algorithm on the Leukemia\ndataset which is a dense dataset.\n\nRunning time is compared with the scikit-learn implementation.\n"
      ]
    },
    {
      "cell_type": "code",
      "execution_count": null,
      "metadata": {
        "collapsed": false
      },
      "outputs": [],
      "source": [
        "import time\n\nimport numpy as np\nimport matplotlib.pyplot as plt\n\nfrom sklearn.linear_model import lasso_path\nfrom sklearn.datasets import fetch_openml\n\nfrom celer import celer_path\nfrom celer.plot_utils import plot_path_hist\n\nprint(__doc__)\n\nprint(\"Loading data...\")\ndataset = fetch_openml(\"leukemia\")\nX = np.asfortranarray(dataset.data.astype(float))\ny = 2 * ((dataset.target != \"AML\") - 0.5)\nn_samples = len(y)\n\ny -= np.mean(y)\ny /= np.std(y)\n\nprint(\"Starting path computation...\")\nalpha_max = np.max(np.abs(X.T.dot(y))) / n_samples\n\nn_alphas = 100\nalphas = alpha_max * np.geomspace(1, 0.01, n_alphas)\n\ntols = [1e-2, 1e-4, 1e-6, 1e-8]\nresults = np.zeros([2, len(tols)])\nfor tol_ix, tol in enumerate(tols):\n    t0 = time.time()\n    _, coefs, gaps = celer_path(\n        X, y, pb='lasso', alphas=alphas, tol=tol, prune=True)\n    results[0, tol_ix] = time.time() - t0\n    print('Celer time: %.2f s' % results[0, tol_ix])\n\n    t0 = time.time()\n    _, coefs, dual_gaps = lasso_path(X, y, tol=tol, alphas=alphas)\n    results[1, tol_ix] = time.time() - t0\n    coefs = coefs.T\n\nlabels = [r\"\\sc{Celer}\", \"scikit-learn\"]\nfigsize = (7.1, 4.3)\nfig = plot_path_hist(results, labels, tols, figsize, ylim=None)\nplt.show()"
      ]
    }
  ],
  "metadata": {
    "kernelspec": {
      "display_name": "Python 3",
      "language": "python",
      "name": "python3"
    },
    "language_info": {
      "codemirror_mode": {
        "name": "ipython",
        "version": 3
      },
      "file_extension": ".py",
      "mimetype": "text/x-python",
      "name": "python",
      "nbconvert_exporter": "python",
      "pygments_lexer": "ipython3",
      "version": "3.7.4"
    }
  },
  "nbformat": 4,
  "nbformat_minor": 0
}