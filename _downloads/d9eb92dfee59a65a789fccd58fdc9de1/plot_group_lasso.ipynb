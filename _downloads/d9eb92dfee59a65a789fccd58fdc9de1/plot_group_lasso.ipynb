{
  "cells": [
    {
      "cell_type": "code",
      "execution_count": null,
      "metadata": {
        "collapsed": false
      },
      "outputs": [],
      "source": [
        "%matplotlib inline"
      ]
    },
    {
      "cell_type": "markdown",
      "metadata": {},
      "source": [
        "\n# Run GroupLasso and GroupLasso CV for structured sparse recovery\n\n\nThe example runs the GroupLasso scikit-learn like estimators.\n"
      ]
    },
    {
      "cell_type": "code",
      "execution_count": null,
      "metadata": {
        "collapsed": false
      },
      "outputs": [],
      "source": [
        "import numpy as np\nimport matplotlib.pyplot as plt\n\nfrom sklearn.utils import check_random_state\n\nfrom celer import GroupLasso, GroupLassoCV\nfrom celer.plot_utils import configure_plt\n\nprint(__doc__)\nconfigure_plt()\n\n# Generating X and y data\n\n# n_samples, n_features = 30, 50\n# rng = check_random_state(0)\n# X = rng.randn(n_samples, n_features)\n\n\n# # Create true regression coefficients with 3 groups of 5 non-zero values\n\n# w_true = np.zeros(n_features)\n# w_true[:5] = 1\n# w_true[20:25] = -2\n# w_true[40:45] = 1\n# y = X @ w_true + rng.randn(n_samples)\n\n\n# # Fit an adapted GroupLasso model\n\n# groups = 5  # groups are contiguous and of size 5\n# # irregular groups are also supported,\n# clf = GroupLasso(groups=groups, alpha=1.1)\n# clf.fit(X, y)\n\n# ###############################################################################\n# # Display results\n\n# fig = plt.figure(figsize=(10, 4))\n# m, s, _ = plt.stem(w_true, label=r\"true regression coefficients\",\n#                    use_line_collection=True)\n# m, s, _ = plt.stem(clf.coef_, label=r\"estimated regression coefficients\",\n#                    markerfmt='x', use_line_collection=True)\n# plt.setp([m, s], color='#ff7f0e')\n# plt.xlabel(\"feature index\")\n# plt.legend()\n# plt.show(block=False)\n\n\n# ###############################################################################\n# # Get optimal alpha for prediction by cross validation\n# model = GroupLassoCV(groups=groups)\n# model.fit(X, y)\n\n# print(\"Estimated regularization parameter alpha: %s\" % model.alpha_)\n\n# fig = plt.figure(figsize=(11, 4.5))\n# plt.semilogx(model.alphas_, model.mse_path_, ':')\n# plt.semilogx(model.alphas_, model.mse_path_.mean(axis=-1), 'k',\n#              label='Average across the folds', linewidth=2)\n# plt.axvline(model.alpha_, linestyle='--', color='k',\n#             label='alpha: CV estimate')\n\n# plt.legend()\n\n# plt.xlabel(r'$\\alpha$')\n# plt.ylabel('Mean square error')\n# plt.show(block=False)\n\n\n# ###############################################################################\n# # Show optimal regression vector for prediction, obtained by cross validation\n\n# fig = plt.figure(figsize=(10, 4))\n# m, s, _ = plt.stem(w_true, label=r\"true regression coefficients\",\n#                    use_line_collection=True)\n# m, s, _ = plt.stem(model.coef_, label=r\"CV-estimated regression coefficients\",\n#                    markerfmt='x', use_line_collection=True)\n# plt.setp([m, s], color='#ff7f0e')\n# plt.xlabel(\"feature index\")\n# plt.legend()\n# plt.show(block=False)"
      ]
    }
  ],
  "metadata": {
    "kernelspec": {
      "display_name": "Python 3",
      "language": "python",
      "name": "python3"
    },
    "language_info": {
      "codemirror_mode": {
        "name": "ipython",
        "version": 3
      },
      "file_extension": ".py",
      "mimetype": "text/x-python",
      "name": "python",
      "nbconvert_exporter": "python",
      "pygments_lexer": "ipython3",
      "version": "3.8.1"
    }
  },
  "nbformat": 4,
  "nbformat_minor": 0
}