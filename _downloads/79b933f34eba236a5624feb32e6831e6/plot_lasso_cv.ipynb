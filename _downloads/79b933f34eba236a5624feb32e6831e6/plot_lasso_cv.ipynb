{
  "cells": [
    {
      "cell_type": "code",
      "execution_count": null,
      "metadata": {
        "collapsed": false
      },
      "outputs": [],
      "source": [
        "%matplotlib inline"
      ]
    },
    {
      "cell_type": "markdown",
      "metadata": {},
      "source": [
        "\n# Run LassoCV for cross-validation on Leukemia dataset\n\n\nThe example runs the LassoCV scikit-learn like estimator\nusing the Celer algorithm.\n"
      ]
    },
    {
      "cell_type": "code",
      "execution_count": null,
      "metadata": {
        "collapsed": false
      },
      "outputs": [],
      "source": [
        "import numpy as np\nimport matplotlib.pyplot as plt\n\nfrom sklearn.datasets import fetch_openml\n\nfrom celer import LassoCV\n\nprint(__doc__)\n\nprint(\"Loading data...\")\ndataset = fetch_openml(\"leukemia\")\nX = np.asfortranarray(dataset.data.astype(float))\ny = 2 * ((dataset.target == \"AML\") - 0.5)\n\nmodel = LassoCV(cv=3)\nmodel.fit(X, y)\n\nprint(\"Estimated regularization parameter alpha: %s\" % model.alpha_)\n\n# Display results\n\nplt.figure()\nplt.semilogx(model.alphas_, model.mse_path_, ':')\nplt.semilogx(model.alphas_, model.mse_path_.mean(axis=-1), 'k',\n             label='Average across the folds', linewidth=2)\nplt.axvline(model.alpha_, linestyle='--', color='k',\n            label='alpha: CV estimate')\n\nplt.legend()\n\nplt.xlabel(r'$\\alpha$')\nplt.ylabel('Mean square error')\nplt.axis('tight')\nplt.show()"
      ]
    }
  ],
  "metadata": {
    "kernelspec": {
      "display_name": "Python 3",
      "language": "python",
      "name": "python3"
    },
    "language_info": {
      "codemirror_mode": {
        "name": "ipython",
        "version": 3
      },
      "file_extension": ".py",
      "mimetype": "text/x-python",
      "name": "python",
      "nbconvert_exporter": "python",
      "pygments_lexer": "ipython3",
      "version": "3.7.4"
    }
  },
  "nbformat": 4,
  "nbformat_minor": 0
}