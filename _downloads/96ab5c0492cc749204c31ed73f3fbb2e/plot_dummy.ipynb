{
  "cells": [
    {
      "cell_type": "code",
      "execution_count": null,
      "metadata": {
        "collapsed": false
      },
      "outputs": [],
      "source": [
        "%matplotlib inline"
      ]
    },
    {
      "cell_type": "markdown",
      "metadata": {},
      "source": [
        "\n# Lasso path computation on Leukemia dataset\n\n\nThe example runs the Celer algorithm on the Leukemia\ndataset which is a dense dataset.\n\nRunning time is compared with the scikit-learn implementation.\n"
      ]
    },
    {
      "cell_type": "code",
      "execution_count": null,
      "metadata": {
        "collapsed": false
      },
      "outputs": [],
      "source": [
        "import time\n\nimport numpy as np\nimport matplotlib.pyplot as plt\n\nfrom sklearn.utils import check_random_state\n\nfrom celer import GroupLasso, GroupLassoCV\nfrom celer.plot_utils import configure_plt\n\n\nprint(__doc__)\n\nprint(\"Loading data...\")\nx = np.arange(12)\ny = x ** 2\nplt.figure()\nplt.plot(x, y)\nplt.show()"
      ]
    }
  ],
  "metadata": {
    "kernelspec": {
      "display_name": "Python 3",
      "language": "python",
      "name": "python3"
    },
    "language_info": {
      "codemirror_mode": {
        "name": "ipython",
        "version": 3
      },
      "file_extension": ".py",
      "mimetype": "text/x-python",
      "name": "python",
      "nbconvert_exporter": "python",
      "pygments_lexer": "ipython3",
      "version": "3.8.1"
    }
  },
  "nbformat": 4,
  "nbformat_minor": 0
}