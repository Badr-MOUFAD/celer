{
  "cells": [
    {
      "cell_type": "code",
      "execution_count": null,
      "metadata": {
        "collapsed": false
      },
      "outputs": [],
      "source": [
        "%matplotlib inline"
      ]
    },
    {
      "cell_type": "markdown",
      "metadata": {},
      "source": [
        "\n# Run GroupLasso for structured sparse recovery\n\n\nThe example runs the GroupLasso scikit-learn like estimators.\n"
      ]
    },
    {
      "cell_type": "code",
      "execution_count": null,
      "metadata": {
        "collapsed": false
      },
      "outputs": [],
      "source": [
        "import numpy as np\nimport matplotlib.pyplot as plt\n\nfrom sklearn.utils import check_random_state\n\nfrom celer import GroupLasso\nfrom celer.plot_utils import configure_plt\n\nprint(__doc__)\nconfigure_plt()\n\n# Generating X and y data\n\nn_samples, n_features = 30, 50\nrng = check_random_state(0)\nX = rng.randn(n_samples, n_features)\n\n\n# Create true regression coefficients with 3 groups of 5 non-zero values\n\nw_true = np.zeros(n_features)\nw_true[:5] = 1\nw_true[20:25] = -2\nw_true[40:45] = 1\ny = X @ w_true + rng.randn(n_samples)\n\n\n# Fit an adapted GroupLasso model\n\ngroups = 5  # groups are contiguous and of size 5\nclf = GroupLasso(groups=groups, alpha=1.1)\nclf.fit(X, y)\n\n# Display results\n\nfig = plt.figure(figsize=(13, 4))\nm, s, _ = plt.stem(w_true, label=r\"true regression coefficients\")\nm, s, _ = plt.stem(clf.coef_, label=r\"estimated regression coefficients\",\n                   markerfmt='x')\nplt.setp([m, s], color='#ff7f0e')\nplt.xlabel(\"feature index\")\nplt.legend()\nplt.show(block=False)"
      ]
    }
  ],
  "metadata": {
    "kernelspec": {
      "display_name": "Python 3",
      "language": "python",
      "name": "python3"
    },
    "language_info": {
      "codemirror_mode": {
        "name": "ipython",
        "version": 3
      },
      "file_extension": ".py",
      "mimetype": "text/x-python",
      "name": "python",
      "nbconvert_exporter": "python",
      "pygments_lexer": "ipython3",
      "version": "3.7.4"
    }
  },
  "nbformat": 4,
  "nbformat_minor": 0
}