{
  "nbformat": 4,
  "nbformat_minor": 0,
  "metadata": {
    "kernelspec": {
      "name": "python3",
      "display_name": "Python 3",
      "language": "python"
    },
    "language_info": {
      "codemirror_mode": {
        "name": "ipython",
        "version": 3
      },
      "mimetype": "text/x-python",
      "pygments_lexer": "ipython3",
      "file_extension": ".py",
      "nbconvert_exporter": "python",
      "name": "python",
      "version": "3.5.4"
    }
  },
  "cells": [
    {
      "execution_count": null,
      "source": [
        "%matplotlib inline"
      ],
      "outputs": [],
      "metadata": {
        "collapsed": false
      },
      "cell_type": "code"
    },
    {
      "source": [
        "\n# Lasso path computation on Leukemia dataset\n\n\nThe example runs the Celer algorithm.\n\n"
      ],
      "metadata": {},
      "cell_type": "markdown"
    },
    {
      "execution_count": null,
      "source": [
        "import time\n\nimport numpy as np\nimport matplotlib.pyplot as plt\n\nfrom sklearn.linear_model import lasso_path\nfrom sklearn.datasets import fetch_mldata\n\nfrom celer import celer_path\nfrom celer.plot_utils import plot_path_hist\n\nprint(__doc__)\n\nprint(\"Loading data...\")\ndataset = fetch_mldata(\"leukemia\")\nX = np.asfortranarray(dataset.data.astype(float))\ny = dataset.target.astype(float)\nn_samples = len(y)\n\ny -= np.mean(y)\ny /= np.linalg.norm(y)\n\nprint(\"Starting path computation...\")\nalpha_max = np.max(np.abs(X.T.dot(y)))\n\nfine = True  # fine or coarse grid\nn_alphas = 100 if fine else 10\nalphas = alpha_max * np.logspace(0, -2, n_alphas)\n\ngap_freq = 10\nsafe = 1\nverbose = 0\nverbose_inner = 0\n# just do the timing:\n# If you want to draw the Fig, store the times in np.array [len(tols), 3]\ntols = [1e-2, 1e-4, 1e-6, 1e-8]\nresults = np.zeros([2, len(tols)])\nfor tol_ix, tol in enumerate(tols):\n    t0 = time.time()\n    res = celer_path(X, y, alphas, max_iter=100, gap_freq=gap_freq,\n                     max_epochs_inner=50000, p0=100, verbose=verbose,\n                     verbose_inner=verbose_inner,\n                     use_accel=1, tol=tol, safe=safe)\n    results[0, tol_ix] = time.time() - t0\n    print('Celer time: %.2f s' % results[0, tol_ix])\n    # if you need to recover the results uncomment the next line:\n    betas, thetas = res\n\n    t0 = time.time()\n    # _, coefs, dual_gaps\n    _, coefs, dual_gaps = lasso_path(X, y, tol=tol, alphas=alphas / n_samples)\n    results[1, tol_ix] = time.time() - t0\n    coefs = coefs.T\n\nlabels = [r\"\\sc{CELER}\", \"scikit-learn\"]\nfigsize = (7, 4)\nfig = plot_path_hist(results, labels, tols, figsize, ylim=None)\nplt.show()"
      ],
      "outputs": [],
      "metadata": {
        "collapsed": false
      },
      "cell_type": "code"
    }
  ]
}