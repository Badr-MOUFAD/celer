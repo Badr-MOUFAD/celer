{
  "metadata": {
    "kernelspec": {
      "name": "python3",
      "language": "python",
      "display_name": "Python 3"
    },
    "language_info": {
      "nbconvert_exporter": "python",
      "codemirror_mode": {
        "name": "ipython",
        "version": 3
      },
      "pygments_lexer": "ipython3",
      "mimetype": "text/x-python",
      "version": "3.5.4",
      "file_extension": ".py",
      "name": "python"
    }
  },
  "cells": [
    {
      "cell_type": "code",
      "source": [
        "%matplotlib inline"
      ],
      "execution_count": null,
      "outputs": [],
      "metadata": {
        "collapsed": false
      }
    },
    {
      "cell_type": "markdown",
      "source": [
        "\n=======================================================\nLasso path computation on Finance/log1p dataset\n=======================================================\n\nThe example runs the Celer algorithm on sparse data.\n\n"
      ],
      "metadata": {}
    },
    {
      "cell_type": "code",
      "source": [
        "import time\n\nimport numpy as np\nimport matplotlib.pyplot as plt\n\n\nfrom scipy import sparse\n\nfrom celer import celer_path\nfrom celer.examples_utils import download_preprocess_finance\nfrom celer.plot_utils import plot_path_hist\n\nprint(__doc__)\n\nprint(\"Warning: this example may take more than 10 minutes to run\")\nprint(\"Loading data...\")\ntry:\n    X = sparse.load_npz(\"./data/finance_data_preprocessed.npz\")\n    y = np.load(\"./data/finance_target_preprocessed.npy\")\nexcept FileNotFoundError:\n    print(\"Warning: downloading and preprocessing the Finance dataset.\")\n    print(\"This may take several minutes\")\n    download_preprocess_finance()\n    X = sparse.load_npz(\"./data/finance_data_preprocessed.npz\")\n    y = np.load(\"./data/finance_target_preprocessed.npy\")\n\nprint(\"Starting path computation...\")\nn_samples = X.shape[0]\nalpha_max = np.max(np.abs(X.T.dot(y))) / n_samples\n\n# construct fine or coarse grid of regularization parameters\nfine = False\nn_alphas = 100 if fine else 10\nalphas = alpha_max * np.logspace(0, -2, n_alphas)\n\ngap_freq = 10\nprune = 1\n\n# tols = [1e-2, 1e-4]\ntols = [1e-2, 1e-4, 1e-6]\nresults = np.zeros([1, len(tols)])\nfor tol_ix, tol in enumerate(tols):\n    t0 = time.time()\n    res = celer_path(X, y, alphas=alphas, max_iter=100, gap_freq=gap_freq,\n                     p0=100, verbose=0, verbose_inner=0,\n                     tol=tol, prune=prune, return_thetas=True)\n    results[0, tol_ix] = time.time() - t0\n    _, coefs, gaps, thetas = res\n    betas = coefs.T\n\nlabels = [r\"\\sc{Celer}\"]\nfigsize = (7, 4)\nfig = plot_path_hist(results, labels, tols, figsize, ylim=None)\nplt.show()"
      ],
      "execution_count": null,
      "outputs": [],
      "metadata": {
        "collapsed": false
      }
    }
  ],
  "nbformat": 4,
  "nbformat_minor": 0
}