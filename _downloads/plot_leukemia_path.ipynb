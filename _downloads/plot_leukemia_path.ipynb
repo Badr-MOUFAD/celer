{
  "nbformat_minor": 0,
  "nbformat": 4,
  "metadata": {
    "kernelspec": {
      "display_name": "Python 3",
      "language": "python",
      "name": "python3"
    },
    "language_info": {
      "version": "3.5.4",
      "name": "python",
      "pygments_lexer": "ipython3",
      "mimetype": "text/x-python",
      "codemirror_mode": {
        "version": 3,
        "name": "ipython"
      },
      "nbconvert_exporter": "python",
      "file_extension": ".py"
    }
  },
  "cells": [
    {
      "cell_type": "code",
      "source": [
        "%matplotlib inline"
      ],
      "execution_count": null,
      "metadata": {
        "collapsed": false
      },
      "outputs": []
    },
    {
      "cell_type": "markdown",
      "source": [
        "\n# Lasso path computation on Leukemia dataset\n\n\nThe example runs the Celer algorithm on dense data.\n\n"
      ],
      "metadata": {}
    },
    {
      "cell_type": "code",
      "source": [
        "import time\n\nimport numpy as np\nimport matplotlib.pyplot as plt\n\nfrom sklearn.linear_model import lasso_path\nfrom sklearn.datasets import fetch_mldata\n\nfrom celer import celer_path\nfrom celer.plot_utils import plot_path_hist\n\nprint(__doc__)\n\nprint(\"Loading data...\")\ndataset = fetch_mldata(\"leukemia\")\nX = np.asfortranarray(dataset.data.astype(float))\ny = dataset.target.astype(float)\nn_samples = len(y)\n\ny -= np.mean(y)\ny /= np.std(y)\n\nprint(\"Starting path computation...\")\nalpha_max = np.max(np.abs(X.T.dot(y))) / n_samples\n\nfine = True  # fine or coarse grid\nn_alphas = 100 if fine else 10\nalphas = alpha_max * np.logspace(0, -2, n_alphas)\n\ngap_freq = 10\nprune = 1\nverbose = 0\nverbose_inner = 0\ntols = [1e-2, 1e-4, 1e-6, 1e-8]\nresults = np.zeros([2, len(tols)])\nfor tol_ix, tol in enumerate(tols):\n    t0 = time.time()\n    res = celer_path(X, y, alphas=alphas, max_iter=100, gap_freq=gap_freq,\n                     p0=100, verbose=verbose, verbose_inner=verbose_inner,\n                     tol=tol, prune=prune, return_thetas=True)\n    results[0, tol_ix] = time.time() - t0\n    print('Celer time: %.2f s' % results[0, tol_ix])\n    _, coefs, gaps, thetas = res\n    betas = coefs.T\n\n    t0 = time.time()\n    _, coefs, dual_gaps = lasso_path(X, y, tol=tol, alphas=alphas)\n    results[1, tol_ix] = time.time() - t0\n    coefs = coefs.T\n\nlabels = [r\"\\sc{Celer}\", \"scikit-learn\"]\nfigsize = (7, 4)\nfig = plot_path_hist(results, labels, tols, figsize, ylim=None)\nplt.show()"
      ],
      "execution_count": null,
      "metadata": {
        "collapsed": false
      },
      "outputs": []
    }
  ]
}