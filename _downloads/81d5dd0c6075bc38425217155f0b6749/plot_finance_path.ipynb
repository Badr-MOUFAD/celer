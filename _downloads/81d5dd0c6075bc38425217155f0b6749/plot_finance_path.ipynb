{
  "cells": [
    {
      "cell_type": "code",
      "execution_count": null,
      "metadata": {
        "collapsed": false
      },
      "outputs": [],
      "source": [
        "%matplotlib inline"
      ]
    },
    {
      "cell_type": "markdown",
      "metadata": {},
      "source": [
        "\n=======================================================\nLasso path computation on Finance/log1p dataset\n=======================================================\n\nThe example runs the Celer algorithm on the Finance dataset\nwhich is a large sparse dataset.\n\nRunning time is here not compared with the scikit-learn\nimplementation as it makes the example too long to run.\n"
      ]
    },
    {
      "cell_type": "code",
      "execution_count": null,
      "metadata": {
        "collapsed": false
      },
      "outputs": [],
      "source": [
        "import time\n\nimport numpy as np\nimport matplotlib.pyplot as plt\n\nfrom celer import celer_path\nfrom celer.datasets import load_libsvm\nfrom celer.plot_utils import plot_path_hist\n\nprint(__doc__)\n\nprint(\"*** Warning: this example may take more than 5 minutes to run ***\")\nX, y = load_libsvm('finance')\n\nprint(\"Starting path computation...\")\nn_samples = X.shape[0]\nalpha_max = np.max(np.abs(X.T.dot(y))) / n_samples\n\n# construct fine or coarse grid of regularization parameters\nfine = False\nn_alphas = 100 if fine else 10\nalphas = alpha_max * np.logspace(0, -2, n_alphas)\n\ntols = [1e-2, 1e-4, 1e-6]\nresults = np.zeros([1, len(tols)])\nfor tol_ix, tol in enumerate(tols):\n    t0 = time.time()\n    res = celer_path(X, y, pb=\"lasso\", alphas=alphas, tol=tol,\n                     return_thetas=True)\n    results[0, tol_ix] = time.time() - t0\n    _, coefs, gaps, thetas = res\n\nlabels = [r\"\\sc{Celer}\"]\nfigsize = (7, 4)\nfig = plot_path_hist(results, labels, tols, figsize, ylim=None)\nplt.show()"
      ]
    }
  ],
  "metadata": {
    "kernelspec": {
      "display_name": "Python 3",
      "language": "python",
      "name": "python3"
    },
    "language_info": {
      "codemirror_mode": {
        "name": "ipython",
        "version": 3
      },
      "file_extension": ".py",
      "mimetype": "text/x-python",
      "name": "python",
      "nbconvert_exporter": "python",
      "pygments_lexer": "ipython3",
      "version": "3.7.4"
    }
  },
  "nbformat": 4,
  "nbformat_minor": 0
}