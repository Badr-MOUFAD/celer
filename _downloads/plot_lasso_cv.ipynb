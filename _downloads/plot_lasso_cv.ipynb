{
  "metadata": {
    "kernelspec": {
      "language": "python",
      "display_name": "Python 3",
      "name": "python3"
    },
    "language_info": {
      "file_extension": ".py",
      "pygments_lexer": "ipython3",
      "codemirror_mode": {
        "version": 3,
        "name": "ipython"
      },
      "version": "3.5.4",
      "name": "python",
      "nbconvert_exporter": "python",
      "mimetype": "text/x-python"
    }
  },
  "cells": [
    {
      "execution_count": null,
      "outputs": [],
      "metadata": {
        "collapsed": false
      },
      "cell_type": "code",
      "source": [
        "%matplotlib inline"
      ]
    },
    {
      "metadata": {},
      "cell_type": "markdown",
      "source": [
        "\n# Run LassoCV for cross-validation on Leukemia dataset\n\n\nThe example runs the LassoCV scikit-learn like estimator\nusing the Celer algorithm.\n\n"
      ]
    },
    {
      "execution_count": null,
      "outputs": [],
      "metadata": {
        "collapsed": false
      },
      "cell_type": "code",
      "source": [
        "import numpy as np\nimport matplotlib.pyplot as plt\n\nfrom sklearn.datasets import fetch_mldata\n\nfrom celer import LassoCV\n\nprint(__doc__)\n\nprint(\"Loading data...\")\ndataset = fetch_mldata(\"leukemia\")\nX = np.asfortranarray(dataset.data.astype(float))\ny = dataset.target.astype(float)\nn_samples = len(y)\n\nmodel = LassoCV()\nmodel.fit(X, y)\n\nprint(\"Estimated regularization parameter alpha: %s\" % model.alpha_)\n\n# Display results\nm_log_alphas = -np.log10(model.alphas_)\n\nplt.figure()\nplt.plot(m_log_alphas, model.mse_path_, ':')\nplt.plot(m_log_alphas, model.mse_path_.mean(axis=-1), 'k',\n         label='Average across the folds', linewidth=2)\nplt.axvline(-np.log10(model.alpha_), linestyle='--', color='k',\n            label='alpha: CV estimate')\n\nplt.legend()\n\nplt.xlabel('-log(alpha)')\nplt.ylabel('Mean square error')\nplt.axis('tight')\nplt.show()"
      ]
    }
  ],
  "nbformat": 4,
  "nbformat_minor": 0
}